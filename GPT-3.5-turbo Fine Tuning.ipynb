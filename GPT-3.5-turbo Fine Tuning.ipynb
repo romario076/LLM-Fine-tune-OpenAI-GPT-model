{
 "cells": [
  {
   "cell_type": "code",
   "execution_count": 1,
   "id": "742714dd-b750-4de1-a1b7-bba94c0fbb9c",
   "metadata": {},
   "outputs": [],
   "source": [
    "import csv\n",
    "import os \n",
    "import json\n",
    "import random\n",
    "import openai\n",
    "import sys\n",
    "import nltk\n",
    "from nltk.tokenize import word_tokenize\n",
    "from nltk.corpus import stopwords\n",
    "from wordcloud import WordCloud\n",
    "from collections import Counter\n",
    "import matplotlib.pyplot as plt\n",
    "import pandas as pd \n",
    "import tiktoken\n",
    "\n",
    "pd.set_option('max_colwidth', 200)\n",
    "sys.path.append('../..')\n",
    "\n",
    "from dotenv import load_dotenv, find_dotenv\n",
    "_ = load_dotenv(find_dotenv()) # read local .env file\n",
    "\n",
    "openai.api_key  = os.environ['OPENAI_API_KEY']"
   ]
  },
  {
   "cell_type": "code",
   "execution_count": 28,
   "id": "fdd6aec2-4034-488d-8955-bdc9c8b7b53a",
   "metadata": {},
   "outputs": [
    {
     "name": "stderr",
     "output_type": "stream",
     "text": [
      "[nltk_data] Downloading package punkt to\n",
      "[nltk_data]     C:\\Users\\roman.y.melnyk\\AppData\\Roaming\\nltk_data...\n",
      "[nltk_data]   Package punkt is already up-to-date!\n",
      "[nltk_data] Downloading package stopwords to\n",
      "[nltk_data]     C:\\Users\\roman.y.melnyk\\AppData\\Roaming\\nltk_data...\n",
      "[nltk_data]   Package stopwords is already up-to-date!\n"
     ]
    },
    {
     "data": {
      "text/plain": [
       "True"
      ]
     },
     "execution_count": 28,
     "metadata": {},
     "output_type": "execute_result"
    }
   ],
   "source": [
    "nltk.download('punkt')\n",
    "nltk.download('stopwords')"
   ]
  },
  {
   "cell_type": "code",
   "execution_count": 19,
   "id": "d78f66f2-6212-403c-b188-d6deace675fa",
   "metadata": {},
   "outputs": [
    {
     "data": {
      "text/html": [
       "<div>\n",
       "<style scoped>\n",
       "    .dataframe tbody tr th:only-of-type {\n",
       "        vertical-align: middle;\n",
       "    }\n",
       "\n",
       "    .dataframe tbody tr th {\n",
       "        vertical-align: top;\n",
       "    }\n",
       "\n",
       "    .dataframe thead th {\n",
       "        text-align: right;\n",
       "    }\n",
       "</style>\n",
       "<table border=\"1\" class=\"dataframe\">\n",
       "  <thead>\n",
       "    <tr style=\"text-align: right;\">\n",
       "      <th></th>\n",
       "      <th>category</th>\n",
       "      <th>text</th>\n",
       "    </tr>\n",
       "  </thead>\n",
       "  <tbody>\n",
       "    <tr>\n",
       "      <th>0</th>\n",
       "      <td>tech</td>\n",
       "      <td>tv future in the hands of viewers with home theatre systems  plasma high-definition tvs  and digital video recorders moving into the living room  the way people watch tv will be radically differen...</td>\n",
       "    </tr>\n",
       "    <tr>\n",
       "      <th>1</th>\n",
       "      <td>business</td>\n",
       "      <td>worldcom boss  left books alone  former worldcom boss bernie ebbers  who is accused of overseeing an $11bn (£5.8bn) fraud  never made accounting decisions  a witness has told jurors.  david myers ...</td>\n",
       "    </tr>\n",
       "    <tr>\n",
       "      <th>2</th>\n",
       "      <td>sport</td>\n",
       "      <td>tigers wary of farrell  gamble  leicester say they will not be rushed into making a bid for andy farrell should the great britain rugby league captain decide to switch codes.   we and anybody else...</td>\n",
       "    </tr>\n",
       "    <tr>\n",
       "      <th>3</th>\n",
       "      <td>sport</td>\n",
       "      <td>yeading face newcastle in fa cup premiership side newcastle united face a trip to ryman premier league leaders yeading in the fa cup third round.  the game - arguably the highlight of the draw - i...</td>\n",
       "    </tr>\n",
       "    <tr>\n",
       "      <th>4</th>\n",
       "      <td>entertainment</td>\n",
       "      <td>ocean s twelve raids box office ocean s twelve  the crime caper sequel starring george clooney  brad pitt and julia roberts  has gone straight to number one in the us box office chart.  it took $4...</td>\n",
       "    </tr>\n",
       "  </tbody>\n",
       "</table>\n",
       "</div>"
      ],
      "text/plain": [
       "        category                                                                                                                                                                                                     text\n",
       "0           tech  tv future in the hands of viewers with home theatre systems  plasma high-definition tvs  and digital video recorders moving into the living room  the way people watch tv will be radically differen...\n",
       "1       business  worldcom boss  left books alone  former worldcom boss bernie ebbers  who is accused of overseeing an $11bn (£5.8bn) fraud  never made accounting decisions  a witness has told jurors.  david myers ...\n",
       "2          sport  tigers wary of farrell  gamble  leicester say they will not be rushed into making a bid for andy farrell should the great britain rugby league captain decide to switch codes.   we and anybody else...\n",
       "3          sport  yeading face newcastle in fa cup premiership side newcastle united face a trip to ryman premier league leaders yeading in the fa cup third round.  the game - arguably the highlight of the draw - i...\n",
       "4  entertainment  ocean s twelve raids box office ocean s twelve  the crime caper sequel starring george clooney  brad pitt and julia roberts  has gone straight to number one in the us box office chart.  it took $4..."
      ]
     },
     "execution_count": 19,
     "metadata": {},
     "output_type": "execute_result"
    }
   ],
   "source": [
    "df = pd.read_csv(\"./dataset/bbc.csv\")\n",
    "df = df.drop_duplicates()\n",
    "df = df.dropna()\n",
    "df.head()"
   ]
  },
  {
   "cell_type": "code",
   "execution_count": 20,
   "id": "45c2db77-4925-4d0f-a018-223116156acb",
   "metadata": {},
   "outputs": [],
   "source": [
    "def cal_num_tokens_from_row(string: str, encoding_name: str) -> int:\n",
    "    encoding = tiktoken.encoding_for_model(encoding_name)\n",
    "    token_count = len(encoding.encode(string))\n",
    "    return token_count\n",
    "\n",
    "def cal_num_tokens_from_df(df, encoding_name: str) -> int:\n",
    "    total_tokens = 0\n",
    "    for text in df['text']:\n",
    "        total_tokens += cal_num_tokens_from_row (text, encoding_name)\n",
    "    return total_tokens\n"
   ]
  },
  {
   "cell_type": "markdown",
   "id": "66f12ba1-01d0-4048-8541-ef34393cee3c",
   "metadata": {},
   "source": [
    "### Data preparation"
   ]
  },
  {
   "cell_type": "code",
   "execution_count": 21,
   "id": "a9157e02-f5ab-4d3b-a794-7014ecb635de",
   "metadata": {},
   "outputs": [
    {
     "name": "stdout",
     "output_type": "stream",
     "text": [
      "Total numbver of tokens in the dataframe: 1051754\n"
     ]
    }
   ],
   "source": [
    "openai_model = 'gpt-3.5-turbo'\n",
    "\n",
    "total_tokens = cal_num_tokens_from_df(df, openai_model)\n",
    "print(f\"Total numbver of tokens in the dataframe: {total_tokens}\")"
   ]
  },
  {
   "cell_type": "code",
   "execution_count": 22,
   "id": "f590d3fc-9b61-4bcf-8a84-625fac44782c",
   "metadata": {},
   "outputs": [],
   "source": [
    "rows = [{'text': row['text'].strip(),\n",
    "                    'label': row['category'],\n",
    "                    } for idx, row in df.iterrows()]\n",
    "random.seed(42)\n",
    "random.shuffle(rows)"
   ]
  },
  {
   "cell_type": "code",
   "execution_count": 23,
   "id": "3e890664-e3d0-4aee-80ee-040e2ac183ef",
   "metadata": {},
   "outputs": [],
   "source": [
    "num_test = 500\n",
    "splits = {'test':rows[0:num_test], 'train':rows[num_test:]}"
   ]
  },
  {
   "cell_type": "code",
   "execution_count": 24,
   "id": "dfbb8962-132e-41c0-9527-6bf168f08296",
   "metadata": {},
   "outputs": [],
   "source": [
    "for split in ['train', 'test']:\n",
    "    with open(f'./dataset/{split}.csv', 'w', newline='', encoding=\"utf-8\") as fOut:\n",
    "        writer = csv.DictWriter(fOut, fieldnames=['text', 'label'])\n",
    "        writer.writeheader()\n",
    "        for row in splits[split]:\n",
    "            writer.writerow(row)"
   ]
  },
  {
   "cell_type": "code",
   "execution_count": 25,
   "id": "2ec44da4-8875-457f-a2c2-1f1fe138e605",
   "metadata": {},
   "outputs": [
    {
     "name": "stdout",
     "output_type": "stream",
     "text": [
      "Total numbver of tokens in the dataframe: 251377 \n",
      "\n",
      "<class 'pandas.core.frame.DataFrame'>\n",
      "RangeIndex: 500 entries, 0 to 499\n",
      "Data columns (total 2 columns):\n",
      " #   Column  Non-Null Count  Dtype \n",
      "---  ------  --------------  ----- \n",
      " 0   text    500 non-null    object\n",
      " 1   label   500 non-null    object\n",
      "dtypes: object(2)\n",
      "memory usage: 7.9+ KB\n"
     ]
    }
   ],
   "source": [
    "df = pd.read_csv(\"dataset/test.csv\", encoding='unicode_escape')\n",
    "final_df = df.head(500)\n",
    "total_tokens = cal_num_tokens_from_df(final_df, \"gpt-3.5-turbo\")\n",
    "print(f\"Total numbver of tokens in the dataframe: {total_tokens}\", \"\\n\")\n",
    "\n",
    "final_df.info()"
   ]
  },
  {
   "cell_type": "code",
   "execution_count": 28,
   "id": "61bc5c24-a11e-43e5-8d53-5e94d8fb2872",
   "metadata": {},
   "outputs": [],
   "source": [
    "def create_openai_files_format(system_message, final_df, out_file_name):\n",
    "    with open(out_file_name, \"w\") as out_file_name:\n",
    "        for _, row in final_df.iterrows():\n",
    "            openai_format = {\n",
    "                \"messages\": [\n",
    "                    {\"role\": \"system\", \"content\": system},\n",
    "                    {\"role\": \"user\", \"content\": row[\"text\"]},\n",
    "                    {\"role\": \"assistant\", \"content\": row[\"label\"]}\n",
    "                ]\n",
    "            }\n",
    "            json.dump(openai_format, out_file_name)\n",
    "            out_file_name.write('\\n')   "
   ]
  },
  {
   "cell_type": "code",
   "execution_count": 32,
   "id": "7f119ac9-8c75-488d-b9ff-262aa0399de7",
   "metadata": {},
   "outputs": [
    {
     "name": "stdout",
     "output_type": "stream",
     "text": [
      "Total numbver of tokens in the dataframe: 5709\n",
      "Price:  0.045672 $\n"
     ]
    }
   ],
   "source": [
    "### Train data\n",
    "train_final_df = pd.read_csv(\"./dataset/train.csv\", encoding='unicode_escape').head(10)\n",
    "total_tokens = cal_num_tokens_from_df(train_final_df, \"gpt-3.5-turbo\")\n",
    "print(f\"Total numbver of tokens in the dataframe: {total_tokens}\")\n",
    "print(\"Price: \", total_tokens/1000*0.008, \"$\")\n",
    "\n",
    "system = \"You are a intelligent assistant designed to classify news articles into these categories: business, entertainment, politics, sport, tech\"\n",
    "out_file_name = \"./dataset/train.jsonl\"\n",
    "create_openai_files_format(system_message=system, final_df=train_final_df, out_file_name=out_file_name)"
   ]
  },
  {
   "cell_type": "code",
   "execution_count": 33,
   "id": "d795b482-89a0-4af7-a217-5b60c21bfac7",
   "metadata": {},
   "outputs": [
    {
     "name": "stdout",
     "output_type": "stream",
     "text": [
      "Total numbver of tokens in the dataframe: 5333\n",
      "Price:  0.031998 $\n"
     ]
    }
   ],
   "source": [
    "### Test data\n",
    "test_final_df = pd.read_csv(\"./dataset/test.csv\", encoding='unicode_escape').head(10)\n",
    "total_tokens = cal_num_tokens_from_df(test_final_df, \"gpt-3.5-turbo\")\n",
    "print(f\"Total numbver of tokens in the dataframe: {total_tokens}\")\n",
    "print(\"Price: \", total_tokens/1000*0.006, \"$\")\n",
    "\n",
    "system = \"You are a intelligent assistant designed to classify news articles into these categories: business, entertainment, politics, sport, tech\"\n",
    "out_file_name = \"./dataset/test.jsonl\"\n",
    "create_openai_files_format(system_message=system, final_df=test_final_df, out_file_name=out_file_name)"
   ]
  },
  {
   "cell_type": "markdown",
   "id": "9a4f6726-e453-44ba-8a74-e607f8968da2",
   "metadata": {},
   "source": [
    "### LLM Fine Tuning"
   ]
  },
  {
   "cell_type": "code",
   "execution_count": 47,
   "id": "e18582c5-e5a5-4d85-a793-25ec388350f4",
   "metadata": {},
   "outputs": [],
   "source": [
    "from openai import OpenAI"
   ]
  },
  {
   "cell_type": "code",
   "execution_count": 48,
   "id": "ad95db2a-e69f-4188-907f-78f3980c5480",
   "metadata": {},
   "outputs": [],
   "source": [
    "client = OpenAI()"
   ]
  },
  {
   "cell_type": "code",
   "execution_count": 57,
   "id": "b98cef85-a90e-45b8-b709-84b6bb0b6574",
   "metadata": {},
   "outputs": [
    {
     "data": {
      "text/plain": [
       "FileObject(id='file-ELqHJFb7Pmuk5TUHanfmVD', bytes=30269, created_at=1733316949, filename='train.jsonl', object='file', purpose='fine-tune', status='processed', status_details=None)"
      ]
     },
     "execution_count": 57,
     "metadata": {},
     "output_type": "execute_result"
    }
   ],
   "source": [
    "client.files.create(file=open(\"./dataset/train.jsonl\",\"rb\"), purpose=\"fine-tune\")"
   ]
  },
  {
   "cell_type": "code",
   "execution_count": 58,
   "id": "0a75e29f-15a0-457c-ade6-05f0afd71f0a",
   "metadata": {},
   "outputs": [
    {
     "data": {
      "text/plain": [
       "FileObject(id='file-6HParUXBYXgtcpNL9pZL1K', bytes=27789, created_at=1733316950, filename='test.jsonl', object='file', purpose='fine-tune', status='processed', status_details=None)"
      ]
     },
     "execution_count": 58,
     "metadata": {},
     "output_type": "execute_result"
    }
   ],
   "source": [
    "client.files.create(file=open(\"./dataset/test.jsonl\",\"rb\"), purpose=\"fine-tune\")"
   ]
  },
  {
   "cell_type": "code",
   "execution_count": 51,
   "id": "b2b458be-1a7d-4c97-8e46-e8b8e2b0bffb",
   "metadata": {},
   "outputs": [
    {
     "data": {
      "text/plain": [
       "SyncPage[FileObject](data=[FileObject(id='file-7Pp1PnvJRHp6TyNp6HXiD2', bytes=27789, created_at=1733316728, filename='test.jsonl', object='file', purpose='fine-tune', status='processed', status_details=None)], object='list', has_more=False, first_id='file-7Pp1PnvJRHp6TyNp6HXiD2', last_id='file-7Pp1PnvJRHp6TyNp6HXiD2')"
      ]
     },
     "execution_count": 51,
     "metadata": {},
     "output_type": "execute_result"
    }
   ],
   "source": [
    "client.files.list()"
   ]
  },
  {
   "cell_type": "code",
   "execution_count": 53,
   "id": "876d9794-7587-499f-9aa0-4f49d8d8e866",
   "metadata": {},
   "outputs": [
    {
     "data": {
      "text/plain": [
       "FileObject(id='file-7Pp1PnvJRHp6TyNp6HXiD2', bytes=27789, created_at=1733316728, filename='test.jsonl', object='file', purpose='fine-tune', status='processed', status_details=None)"
      ]
     },
     "execution_count": 53,
     "metadata": {},
     "output_type": "execute_result"
    }
   ],
   "source": [
    "client.files.retrieve(\"file-7Pp1PnvJRHp6TyNp6HXiD2\")"
   ]
  },
  {
   "cell_type": "code",
   "execution_count": 59,
   "id": "59cc6477-0f34-4615-95f1-91a5789ff719",
   "metadata": {},
   "outputs": [
    {
     "data": {
      "text/plain": [
       "FineTuningJob(id='ftjob-yLid4v88mbGyBTAVZhohBh8R', created_at=1733316980, error=Error(code=None, message=None, param=None), fine_tuned_model=None, finished_at=None, hyperparameters=Hyperparameters(n_epochs=1, batch_size='auto', learning_rate_multiplier='auto'), model='gpt-3.5-turbo-0125', object='fine_tuning.job', organization_id='org-3EtQLVSX02GEHJtlAwCVPJRJ', result_files=[], status='validating_files', trained_tokens=None, training_file='file-ELqHJFb7Pmuk5TUHanfmVD', validation_file='file-6HParUXBYXgtcpNL9pZL1K', user_provided_suffix=None, seed=2143003385, estimated_finish=None, integrations=[])"
      ]
     },
     "execution_count": 59,
     "metadata": {},
     "output_type": "execute_result"
    }
   ],
   "source": [
    "client.fine_tuning.jobs.create(model = \"gpt-3.5-turbo\",\n",
    "                               training_file=\"file-ELqHJFb7Pmuk5TUHanfmVD\",\n",
    "                               hyperparameters={\n",
    "                                   \"n_epochs\":1\n",
    "                               },\n",
    "                               validation_file=\"file-6HParUXBYXgtcpNL9pZL1K\")"
   ]
  },
  {
   "cell_type": "code",
   "execution_count": 60,
   "id": "504ae2db-8998-46e1-8b13-5ffdf7572380",
   "metadata": {},
   "outputs": [
    {
     "data": {
      "text/plain": [
       "SyncCursorPage[FineTuningJob](data=[FineTuningJob(id='ftjob-yLid4v88mbGyBTAVZhohBh8R', created_at=1733316980, error=Error(code=None, message=None, param=None), fine_tuned_model=None, finished_at=None, hyperparameters=Hyperparameters(n_epochs=1, batch_size=1, learning_rate_multiplier=2), model='gpt-3.5-turbo-0125', object='fine_tuning.job', organization_id='org-3EtQLVSX02GEHJtlAwCVPJRJ', result_files=[], status='running', trained_tokens=None, training_file='file-ELqHJFb7Pmuk5TUHanfmVD', validation_file='file-6HParUXBYXgtcpNL9pZL1K', user_provided_suffix=None, seed=2143003385, estimated_finish=None, integrations=[])], object='list', has_more=False)"
      ]
     },
     "execution_count": 60,
     "metadata": {},
     "output_type": "execute_result"
    }
   ],
   "source": [
    "client.fine_tuning.jobs.list(limit=10)"
   ]
  },
  {
   "cell_type": "markdown",
   "id": "5c3c4430-2d6a-4877-8caf-69fe8ea62da8",
   "metadata": {},
   "source": [
    "### Evaluation"
   ]
  },
  {
   "cell_type": "code",
   "execution_count": null,
   "id": "0aaf13c2-84cd-4da7-aba1-234f7d92ad96",
   "metadata": {},
   "outputs": [],
   "source": [
    "from openai import OpenAI\n",
    "import pandas as pd"
   ]
  },
  {
   "cell_type": "code",
   "execution_count": 68,
   "id": "a4c8ec6f-fe82-487b-b9a0-fab949fcc59d",
   "metadata": {},
   "outputs": [],
   "source": [
    "fine_tuned_model = 'ft:gpt-3.5-turbo-0125:personal::AajHZ3TT'\n",
    "client = OpenAI()"
   ]
  },
  {
   "cell_type": "code",
   "execution_count": 103,
   "id": "a1cec806-4a58-451f-9141-0b3284748584",
   "metadata": {},
   "outputs": [
    {
     "name": "stdout",
     "output_type": "stream",
     "text": [
      "20\n"
     ]
    }
   ],
   "source": [
    "### Selected very small data set for fine tunning to save costs. \n",
    "### If you want to see fine tunning influence more significant on the result, please increse train!!! and test data set size\n",
    "df = pd.read_csv('./dataset/test.csv', encoding='unicode_escape')\n",
    "labels = df.iloc[:,1].tolist()\n",
    "texts = df.iloc[:,0].tolist()\n",
    "\n",
    "texts = texts[480:]\n",
    "labels = labels[480:]\n",
    "total_classifications = len(labels)\n",
    "print(len(texts))"
   ]
  },
  {
   "cell_type": "code",
   "execution_count": 104,
   "id": "43e030b5-1ef3-499f-854b-c73d829de468",
   "metadata": {},
   "outputs": [],
   "source": [
    "def inference_for_eval(text, m):\n",
    "    completion = client.chat.completions.create(\n",
    "    model=m,\n",
    "    messages=[\n",
    "        {\"role\": \"system\", \"content\": \"You are a intelligent assistant designed to classify news articles into these categories: business, entertainment, politics, sport, tech. Plaese, return only one word from categories\"},\n",
    "        {\"role\": \"user\", \"content\": text}\n",
    "        ]\n",
    "    )\n",
    "    return completion.choices[0].message.content\n"
   ]
  },
  {
   "cell_type": "code",
   "execution_count": 105,
   "id": "9fb4270f-0c13-4c89-bd4c-89a28f17953a",
   "metadata": {},
   "outputs": [],
   "source": [
    "### Base gpt-3.5-turbo model\n",
    "output_base = [inference_for_eval(text, \"gpt-3.5-turbo\") for text in texts]"
   ]
  },
  {
   "cell_type": "code",
   "execution_count": 106,
   "id": "ab6687c3-c7b7-4390-8d00-e147ebc79b10",
   "metadata": {},
   "outputs": [],
   "source": [
    "### Fine tuned gpt-3.5-turbo model\n",
    "output = [inference_for_eval(text, fine_tuned_model) for text in texts]"
   ]
  },
  {
   "cell_type": "code",
   "execution_count": 110,
   "id": "2810f8a9-a27c-4b7d-a580-32c7de01987e",
   "metadata": {},
   "outputs": [
    {
     "name": "stdout",
     "output_type": "stream",
     "text": [
      "Accuracy base model:80.00%\n"
     ]
    }
   ],
   "source": [
    "### For base model\n",
    "correct_classifications = sum(classification ==label for classification, label in zip(output_base,labels))\n",
    "\n",
    "accuracy_percentage = (correct_classifications/total_classifications)*100\n",
    "print(f\"Accuracy base model:{accuracy_percentage:.2f}%\")"
   ]
  },
  {
   "cell_type": "code",
   "execution_count": 111,
   "id": "3f21283b-f0b1-4a6c-afaf-432c626a861a",
   "metadata": {},
   "outputs": [
    {
     "name": "stdout",
     "output_type": "stream",
     "text": [
      "Accuracy fine tunned model:85.00%\n"
     ]
    }
   ],
   "source": [
    "### For fine tuned model\n",
    "correct_classifications = sum(classification ==label for classification, label in zip(output,labels))\n",
    "\n",
    "accuracy_percentage = (correct_classifications/total_classifications)*100\n",
    "print(f\"Accuracy fine tunned model:{accuracy_percentage:.2f}%\")"
   ]
  },
  {
   "cell_type": "code",
   "execution_count": 109,
   "id": "b4a8990d-7662-4736-bf48-115e589beb79",
   "metadata": {},
   "outputs": [
    {
     "data": {
      "text/html": [
       "<div>\n",
       "<style scoped>\n",
       "    .dataframe tbody tr th:only-of-type {\n",
       "        vertical-align: middle;\n",
       "    }\n",
       "\n",
       "    .dataframe tbody tr th {\n",
       "        vertical-align: top;\n",
       "    }\n",
       "\n",
       "    .dataframe thead th {\n",
       "        text-align: right;\n",
       "    }\n",
       "</style>\n",
       "<table border=\"1\" class=\"dataframe\">\n",
       "  <thead>\n",
       "    <tr style=\"text-align: right;\">\n",
       "      <th></th>\n",
       "      <th>Correct</th>\n",
       "      <th>Classification</th>\n",
       "      <th>Classification_base</th>\n",
       "    </tr>\n",
       "  </thead>\n",
       "  <tbody>\n",
       "    <tr>\n",
       "      <th>0</th>\n",
       "      <td>entertainment</td>\n",
       "      <td>entertainment</td>\n",
       "      <td>entertainment</td>\n",
       "    </tr>\n",
       "    <tr>\n",
       "      <th>1</th>\n",
       "      <td>entertainment</td>\n",
       "      <td>entertainment</td>\n",
       "      <td>entertainment</td>\n",
       "    </tr>\n",
       "    <tr>\n",
       "      <th>2</th>\n",
       "      <td>politics</td>\n",
       "      <td>politics</td>\n",
       "      <td>business</td>\n",
       "    </tr>\n",
       "    <tr>\n",
       "      <th>3</th>\n",
       "      <td>sport</td>\n",
       "      <td>sport</td>\n",
       "      <td>sport</td>\n",
       "    </tr>\n",
       "    <tr>\n",
       "      <th>4</th>\n",
       "      <td>politics</td>\n",
       "      <td>politics</td>\n",
       "      <td>politics</td>\n",
       "    </tr>\n",
       "    <tr>\n",
       "      <th>5</th>\n",
       "      <td>politics</td>\n",
       "      <td>politics</td>\n",
       "      <td>politics</td>\n",
       "    </tr>\n",
       "    <tr>\n",
       "      <th>6</th>\n",
       "      <td>sport</td>\n",
       "      <td>sport</td>\n",
       "      <td>sport</td>\n",
       "    </tr>\n",
       "    <tr>\n",
       "      <th>7</th>\n",
       "      <td>sport</td>\n",
       "      <td>sport</td>\n",
       "      <td>sport</td>\n",
       "    </tr>\n",
       "    <tr>\n",
       "      <th>8</th>\n",
       "      <td>business</td>\n",
       "      <td>politics</td>\n",
       "      <td>politics</td>\n",
       "    </tr>\n",
       "    <tr>\n",
       "      <th>9</th>\n",
       "      <td>politics</td>\n",
       "      <td>politics</td>\n",
       "      <td>politics</td>\n",
       "    </tr>\n",
       "    <tr>\n",
       "      <th>10</th>\n",
       "      <td>sport</td>\n",
       "      <td>sport</td>\n",
       "      <td>sport</td>\n",
       "    </tr>\n",
       "    <tr>\n",
       "      <th>11</th>\n",
       "      <td>tech</td>\n",
       "      <td>tech</td>\n",
       "      <td>tech</td>\n",
       "    </tr>\n",
       "    <tr>\n",
       "      <th>12</th>\n",
       "      <td>business</td>\n",
       "      <td>business</td>\n",
       "      <td>business</td>\n",
       "    </tr>\n",
       "    <tr>\n",
       "      <th>13</th>\n",
       "      <td>business</td>\n",
       "      <td>politics</td>\n",
       "      <td>business</td>\n",
       "    </tr>\n",
       "    <tr>\n",
       "      <th>14</th>\n",
       "      <td>sport</td>\n",
       "      <td>sport</td>\n",
       "      <td>sport</td>\n",
       "    </tr>\n",
       "    <tr>\n",
       "      <th>15</th>\n",
       "      <td>sport</td>\n",
       "      <td>sport</td>\n",
       "      <td>entertainment</td>\n",
       "    </tr>\n",
       "    <tr>\n",
       "      <th>16</th>\n",
       "      <td>business</td>\n",
       "      <td>politics</td>\n",
       "      <td>politics</td>\n",
       "    </tr>\n",
       "    <tr>\n",
       "      <th>17</th>\n",
       "      <td>politics</td>\n",
       "      <td>politics</td>\n",
       "      <td>politics</td>\n",
       "    </tr>\n",
       "    <tr>\n",
       "      <th>18</th>\n",
       "      <td>tech</td>\n",
       "      <td>tech</td>\n",
       "      <td>tech</td>\n",
       "    </tr>\n",
       "    <tr>\n",
       "      <th>19</th>\n",
       "      <td>entertainment</td>\n",
       "      <td>entertainment</td>\n",
       "      <td>entertainment</td>\n",
       "    </tr>\n",
       "  </tbody>\n",
       "</table>\n",
       "</div>"
      ],
      "text/plain": [
       "          Correct Classification Classification_base\n",
       "0   entertainment  entertainment       entertainment\n",
       "1   entertainment  entertainment       entertainment\n",
       "2        politics       politics            business\n",
       "3           sport          sport               sport\n",
       "4        politics       politics            politics\n",
       "5        politics       politics            politics\n",
       "6           sport          sport               sport\n",
       "7           sport          sport               sport\n",
       "8        business       politics            politics\n",
       "9        politics       politics            politics\n",
       "10          sport          sport               sport\n",
       "11           tech           tech                tech\n",
       "12       business       business            business\n",
       "13       business       politics            business\n",
       "14          sport          sport               sport\n",
       "15          sport          sport       entertainment\n",
       "16       business       politics            politics\n",
       "17       politics       politics            politics\n",
       "18           tech           tech                tech\n",
       "19  entertainment  entertainment       entertainment"
      ]
     },
     "metadata": {},
     "output_type": "display_data"
    }
   ],
   "source": [
    "val_df = pd.DataFrame()\n",
    "val_df['Correct'] = labels\n",
    "val_df['Classification'] = output\n",
    "val_df['Classification_base'] = output_base\n",
    "display(val_df)"
   ]
  },
  {
   "cell_type": "code",
   "execution_count": null,
   "id": "4f7370bc-80a3-4fd5-83e3-9374281ab6af",
   "metadata": {},
   "outputs": [],
   "source": []
  }
 ],
 "metadata": {
  "kernelspec": {
   "display_name": "Python 3 (ipykernel)",
   "language": "python",
   "name": "python3"
  },
  "language_info": {
   "codemirror_mode": {
    "name": "ipython",
    "version": 3
   },
   "file_extension": ".py",
   "mimetype": "text/x-python",
   "name": "python",
   "nbconvert_exporter": "python",
   "pygments_lexer": "ipython3",
   "version": "3.12.7"
  }
 },
 "nbformat": 4,
 "nbformat_minor": 5
}
